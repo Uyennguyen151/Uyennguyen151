{
  "nbformat": 4,
  "nbformat_minor": 0,
  "metadata": {
    "colab": {
      "name": "Untitled24.ipynb",
      "private_outputs": true,
      "provenance": [],
      "collapsed_sections": [],
      "authorship_tag": "ABX9TyMOXODce/fyGAX27TaN/gj9",
      "include_colab_link": true
    },
    "kernelspec": {
      "name": "python3",
      "display_name": "Python 3"
    },
    "language_info": {
      "name": "python"
    }
  },
  "cells": [
    {
      "cell_type": "markdown",
      "metadata": {
        "id": "view-in-github",
        "colab_type": "text"
      },
      "source": [
        "<a href=\"https://colab.research.google.com/github/Uyennguyen151/Uyennguyen151/blob/main/K-NearestNeighbors.ipynb\" target=\"_parent\"><img src=\"https://colab.research.google.com/assets/colab-badge.svg\" alt=\"Open In Colab\"/></a>"
      ]
    },
    {
      "cell_type": "code",
      "execution_count": null,
      "metadata": {
        "id": "8FAvzxPExKAP"
      },
      "outputs": [],
      "source": [
        "import numpy as np\n",
        "import array as arr\n",
        "import random\n",
        "import matplotlib.pyplot as plt\n",
        "import math"
      ]
    },
    {
      "cell_type": "code",
      "source": [
        "x1 = np.random.normal(5,1,20)\n",
        "y1 = np.random.normal(5,1,20)\n",
        "class1 = (x1,y1)\n",
        "print (class1)\n",
        "plt.scatter(x1, y1, color='green')\n",
        "\n",
        "x2 = np.random.normal(4,1,20)\n",
        "y2 = np.random.normal(4,1,20)\n",
        "class2 = (x2,y2)\n",
        "print (class2)\n",
        "plt.scatter(x2,y2, color = 'red')\n",
        "\n",
        "x3 = np.random.normal(5.5,1,1)\n",
        "y3 = np.random.normal(5.5,1,1)\n",
        "plt.scatter(x3,y3, color= 'blue')\n",
        "point = (x3,y3)\n",
        "print (point)\n",
        "\n",
        "\n"
      ],
      "metadata": {
        "id": "CcdWtHVwRr3O"
      },
      "execution_count": null,
      "outputs": []
    },
    {
      "cell_type": "code",
      "source": [
        "from math import sqrt\n",
        "import array as arr\n",
        "d = (len(y1)-1)\n",
        "eucelidance1 = arr.array('d', [])\n",
        "for i in range(0, (len(x1)-1)):\n",
        "  distance = 0\n",
        "  for j in range(0,d):\n",
        "    data = (np.sqrt(((x3-x1[i])**2)+((y3-y1[d])**2)))\n",
        "    #print (data)\n",
        "  eucelidance1.append(data)\n",
        "print (eucelidance1)"
      ],
      "metadata": {
        "id": "UYEltUTw-uEc"
      },
      "execution_count": null,
      "outputs": []
    },
    {
      "cell_type": "code",
      "source": [
        "q = (len(y2)-1)\n",
        "eucelidance2 = arr.array('d', [])\n",
        "for o in range(0,(len(x2)-1)):\n",
        "  data2 = 0\n",
        "  for w in range(0,q):\n",
        "    data2 = (np.sqrt(((x3-x2[o])**2)+((y3-y2[q])**2)))\n",
        "  eucelidance2.append(data2)\n",
        "print (eucelidance2)"
      ],
      "metadata": {
        "id": "41S60QTMVEpg"
      },
      "execution_count": null,
      "outputs": []
    },
    {
      "cell_type": "code",
      "source": [
        "tmp = 0\n",
        "length = len(eucelidance1)\n",
        "length2 = len(eucelidance2)\n",
        "for i in range(0,(length-1)):\n",
        "  for j in range((i+1),length):\n",
        "    if (eucelidance1[i]>eucelidance1[j]):\n",
        "      tmp = eucelidance1[i]\n",
        "      eucelidance1[i] = eucelidance1[j]\n",
        "      eucelidance1 [j] = tmp\n",
        "print (eucelidance1)\n",
        "tmp = 0\n",
        "for i in range(0,(length2-1)):\n",
        "  for j in range((i+1),length2):\n",
        "    if (eucelidance2[i]>eucelidance2[j]):\n",
        "      tmp = eucelidance2[i]\n",
        "      eucelidance2[i] = eucelidance2[j]\n",
        "      eucelidance2[j] = tmp\n",
        "print (eucelidance2)\n",
        "neweuclidean1 = eucelidance1[0:5]\n",
        "print (neweuclidean1)\n",
        "neweuclidean2 = eucelidance2[0:5]"
      ],
      "metadata": {
        "id": "AKLuVMlWrkZX"
      },
      "execution_count": null,
      "outputs": []
    },
    {
      "cell_type": "code",
      "source": [
        "smallest_distance = neweuclidean1[0]\n",
        "k=5\n",
        "for i in range(0,k-1):\n",
        "  for j in range(0,k-1):\n",
        "    if (smallest_distance > neweuclidean2[i]):\n",
        "      smallest_distance = neweuclidean2[0]\n",
        "      class2 += (x3,y3)\n",
        "      plt.scatter(x1,y1, color = 'green')\n",
        "      plt.scatter(x2,y2, color = 'red')\n",
        "      plt.scatter(x3,y3, color = 'red')\n",
        "    else:\n",
        "      smallest_distance = neweuclidean1[0]\n",
        "      class1 += (x3,y3)\n",
        "      plt.scatter(x1,y1, color = 'green')\n",
        "      plt.scatter(x2,y2, color = 'red')      \n",
        "      plt.scatter(x3,y3, color = 'green')\n",
        "\n",
        "print (smallest_distance)\n",
        "\n"
      ],
      "metadata": {
        "id": "khQHsfCkKhIO"
      },
      "execution_count": null,
      "outputs": []
    },
    {
      "cell_type": "code",
      "source": [
        ""
      ],
      "metadata": {
        "id": "C3ECfZQNJ-4-"
      },
      "execution_count": null,
      "outputs": []
    }
  ]
}